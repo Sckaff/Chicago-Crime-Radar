{
 "cells": [
  {
   "cell_type": "code",
   "execution_count": 2,
   "metadata": {},
   "outputs": [],
   "source": [
    "import pandas as pd"
   ]
  },
  {
   "attachments": {},
   "cell_type": "markdown",
   "metadata": {},
   "source": [
    "## Business Dataset"
   ]
  },
  {
   "cell_type": "code",
   "execution_count": 34,
   "metadata": {},
   "outputs": [
    {
     "name": "stderr",
     "output_type": "stream",
     "text": [
      "/var/folders/q5/442qt60n36g3kwnwqzq9_8xw0000gn/T/ipykernel_16681/1291241618.py:1: DtypeWarning: Columns (9) have mixed types. Specify dtype option on import or set low_memory=False.\n",
      "  df_business = pd.read_csv('Business_Licenses_-_Current_Active.csv')\n"
     ]
    }
   ],
   "source": [
    "df_business = pd.read_csv('Business_Licenses_-_Current_Active.csv')\n",
    "\n",
    "# Set boundaries (5-yr study 18-22)\n",
    "df_business['temp'] = pd.to_datetime(df_business[\"DATE ISSUED\"])\n",
    "df_business = df_business[~(df_business['temp'] < '2018-01-01')]\n",
    "df_businessdf = df_business[~(df_business['temp'] > '2022-12-31')]\n",
    "\n",
    "# Remove null\n",
    "df_business = df_business.drop(columns=['temp'])\n",
    "df_business = df_business[df_business['CITY'] == 'CHICAGO']\n",
    "df_business = df_business.loc[:, ['ID', 'DATE ISSUED', 'ZIP CODE', 'LEGAL NAME', 'LICENSE DESCRIPTION', \n",
    "                                  'POLICE DISTRICT', 'BUSINESS ACTIVITY','LATITUDE', 'LONGITUDE']]\n",
    "df_business = df_business.dropna()"
   ]
  },
  {
   "cell_type": "code",
   "execution_count": 35,
   "metadata": {},
   "outputs": [],
   "source": [
    "df_business.to_csv('./data/business_licenses.csv')"
   ]
  },
  {
   "attachments": {},
   "cell_type": "markdown",
   "metadata": {},
   "source": [
    "## Crime Dataset"
   ]
  },
  {
   "cell_type": "code",
   "execution_count": 19,
   "metadata": {},
   "outputs": [],
   "source": [
    "df_crime = pd.read_csv(\"Crimes_-_2001_to_Present.csv\")"
   ]
  },
  {
   "cell_type": "code",
   "execution_count": null,
   "metadata": {},
   "outputs": [],
   "source": [
    "# Set boundaries (5-yr study 18-22)\n",
    "df_crime['temp'] = df_crime['Date'].str[:10]\n",
    "df_crime['temp'] = pd.to_datetime(df_crime[\"temp\"])\n",
    "df_crime = df_crime[~(df_crime['temp'] < '2018-01-01')]\n",
    "df_crime = df_crime[~(df_crime['temp'] > '2022-12-31')]\n",
    "\n",
    "# Remove null\n",
    "df_crime = df_crime.dropna()\n",
    "df_crime = df_crime.drop(columns=['temp'])\n",
    "\n",
    "# Sort by date\n",
    "df_crime['Date'] = df_crime['Date'].map(lambda x: pd.to_datetime(x))\n",
    "df_crime = df_crime.sort_values(by='Date')\n",
    "\n",
    "# Change type of Zip Code and Police Districts to 'int'\n",
    "df_crime['Zip Codes'] = df_crime['Zip Codes'].astype(int)\n",
    "df_crime['Police Districts'] = df_crime['Police Districts'].astype(int)\n",
    "\n",
    "# Choose desired columns\n",
    "final_df = df_crime.loc[:, ['ID', 'Date', 'Primary Type', 'Description', 'Location Description', 'Arrest', \n",
    "                      'Domestic', 'Location', 'Zip Codes', 'Police Districts', 'Latitude', 'Longitude']]\n",
    "report = final_df.loc[:, ['Date', 'Location', 'Arrest', 'Domestic', 'Location Description', 'Latitude', 'Longitude']]\n",
    "crime_description = final_df.loc[:, 'Description']\n",
    "crime_type = final_df.loc[:, 'Primary Type']\n",
    "location = final_df.loc[:, ['Zip Codes', 'Police Districts']]"
   ]
  },
  {
   "cell_type": "code",
   "execution_count": null,
   "metadata": {},
   "outputs": [],
   "source": [
    "# Export\n",
    "report.to_csv('./data/report.csv')\n",
    "crime_description.to_csv('./data/crime_description.csv')\n",
    "crime_type.to_csv('./data/crime_type.csv')\n",
    "location.to_csv('./data/location.csv')"
   ]
  }
 ],
 "metadata": {
  "kernelspec": {
   "display_name": "Python 3",
   "language": "python",
   "name": "python3"
  },
  "language_info": {
   "codemirror_mode": {
    "name": "ipython",
    "version": 3
   },
   "file_extension": ".py",
   "mimetype": "text/x-python",
   "name": "python",
   "nbconvert_exporter": "python",
   "pygments_lexer": "ipython3",
   "version": "3.10.6"
  },
  "orig_nbformat": 4
 },
 "nbformat": 4,
 "nbformat_minor": 2
}
